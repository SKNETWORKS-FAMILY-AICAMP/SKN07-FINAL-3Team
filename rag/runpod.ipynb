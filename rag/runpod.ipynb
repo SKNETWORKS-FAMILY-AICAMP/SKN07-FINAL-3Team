{
 "cells": [
  {
   "cell_type": "code",
   "execution_count": 7,
   "id": "d806e6a1",
   "metadata": {},
   "outputs": [
    {
     "data": {
      "text/plain": [
       "200"
      ]
     },
     "execution_count": 7,
     "metadata": {},
     "output_type": "execute_result"
    }
   ],
   "source": [
    "import os\n",
    "import requests\n",
    "\n",
    "from pathlib import Path\n",
    "from dotenv import load_dotenv\n",
    "\n",
    "\n",
    "ENV_PATH = Path(os.getcwd()).resolve().parent / '.env'\n",
    "load_dotenv(dotenv_path=ENV_PATH)\n",
    "\n",
    "headers = {\n",
    "    'Content-Type': 'application/json',\n",
    "    'Authorization': os.environ.get('RUNPOD_API_KEY')\n",
    "}\n",
    "\n",
    "data = {\n",
    "    'input': {\"prompt\":\"점심 메뉴 추천해줄래?\"}\n",
    "}\n",
    "\n",
    "response = requests.post('https://api.runpod.ai/v2/sqyxaigfh42jhm/run', headers=headers, json=data)\n",
    "\n",
    "response.status_code"
   ]
  },
  {
   "cell_type": "code",
   "execution_count": null,
   "id": "ed5a654b",
   "metadata": {},
   "outputs": [],
   "source": [
    "from openai import OpenAI\n",
    "\n",
    "load_dotenv(dotenv_path=ENV_PATH)\n",
    "\n",
    "client = OpenAI(\n",
    "        base_url=os.environ.get(\"RUNPOD_BASE_URL\"),\n",
    "        api_key=os.environ.get(\"RUNPOD_API_KEY\"),\n",
    "    )\n",
    "\n",
    "response = client.chat.completions.create(\n",
    "    model=\"google/gemma-3-27b-it\",\n",
    "    messages=[{\"role\": \"user\", \"content\": f\"점심 메뉴 추천해줄래?\"}],\n",
    "    temperature=0,\n",
    "    )\n",
    "\n",
    "print(response.choices[0].message.content)"
   ]
  }
 ],
 "metadata": {
  "kernelspec": {
   "display_name": "rag",
   "language": "python",
   "name": "python3"
  },
  "language_info": {
   "codemirror_mode": {
    "name": "ipython",
    "version": 3
   },
   "file_extension": ".py",
   "mimetype": "text/x-python",
   "name": "python",
   "nbconvert_exporter": "python",
   "pygments_lexer": "ipython3",
   "version": "3.10.16"
  }
 },
 "nbformat": 4,
 "nbformat_minor": 5
}
